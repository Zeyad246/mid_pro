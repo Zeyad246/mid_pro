{
 "cells": [
  {
   "cell_type": "code",
   "execution_count": 1,
   "metadata": {},
   "outputs": [],
   "source": [
    "import streamlit as st\n",
    "import plotly.express as px\n",
    "import pandas as pd"
   ]
  },
  {
   "cell_type": "code",
   "execution_count": 4,
   "metadata": {},
   "outputs": [],
   "source": [
    "df=pd.read_csv('mid project')"
   ]
  },
  {
   "cell_type": "code",
   "execution_count": 56,
   "metadata": {},
   "outputs": [
    {
     "name": "stdout",
     "output_type": "stream",
     "text": [
      "Overwriting mid_project.py\n"
     ]
    }
   ],
   "source": [
    "%%writefile mid_project.py\n",
    "import streamlit as st\n",
    "import plotly.express as px\n",
    "import pandas as pd\n",
    "st.set_page_config(layout='wide')\n",
    "df=pd.read_csv('mid project')\n",
    "tab1 , tab2 , tab3 ,tab4 ,tab5=st.tabs(['work_year', 'jobs' , 'salary' , 'countries' , 'Contracts'])\n",
    "with tab1:\n",
    "    col1 , col2 , col3 =st.columns(3)\n",
    "    with col1:\n",
    "        st.plotly_chart(px.histogram(data_frame=df , x='work_year' , y='salary_in_usd' ,text_auto=True , histfunc='avg', color='work_year' , title='Average salary in 3 years in usd'))\n",
    "    with col2:\n",
    "        st.plotly_chart(px.histogram(data_frame=df , x='work_year' , y='salary_in_usd' ,text_auto=True, barmode='group' , histfunc='avg', color='job_title' , title='Average salary in 3 years in usd').update_xaxes(categoryorder = 'total descending'))\n",
    "    with col3:\n",
    "        st.plotly_chart(px.histogram(data_frame=df , x='work_year' , color='job_title' , text_auto=True , barmode='group' , title=\"Jobs\"))\n",
    "        st.plotly_chart(px.histogram(data_frame=df , x='work_year' , color='employment_type' , text_auto=True , barmode='group', title = 'employment type for each year'))\n",
    "with tab2:\n",
    "    col1,col2,col3=st.columns(3)\n",
    "    with col1:\n",
    "        st.plotly_chart(px.histogram(data_frame=df , x='job_title' , text_auto=True , color = 'job_title' , title='Jobs').update_xaxes(categoryorder = 'total descending'))\n",
    "    with col2:\n",
    "        st.plotly_chart(px.histogram(data_frame=df , x='job_category' , text_auto=True ,color ='employment_type',barmode='group',title='employment_type for each job').update_xaxes(categoryorder = 'total descending'))\n",
    "    with col3:\n",
    "        st.plotly_chart(px.histogram(data_frame=df , x =['job_title'],color='experience_level' , title='Experience in every job',barmode='group' ,text_auto=True).update_xaxes(categoryorder = 'total descending'))\n",
    "        st.plotly_chart(px.histogram(data_frame=df , x= 'job_title' , y='salary_in_usd' , text_auto=True , histfunc='avg', color='job_title',title=' avg salary jobs in dollar').update_xaxes(categoryorder = 'total descending'))\n",
    "with tab3:\n",
    "    col1,col2,col3=st.columns(3)\n",
    "    with col1:\n",
    "        st.plotly_chart(px.histogram(data_frame =  df , x='salary_currency' , text_auto=True , color='salary_currency' , title='salary_currency' ).update_xaxes(categoryorder = 'total descending'))\n",
    "        st.plotly_chart(px.histogram(data_frame=df, x='job_title', y='salary_in_usd', color='work_setting' , text_auto=True,histfunc='avg', barmode='group',title='The average salary for each job work_setting').update_xaxes(categoryorder = 'total descending'))\n",
    "    with col2:\n",
    "        st.plotly_chart(px.histogram(data_frame=df, x='company_size', y='salary_in_usd', color='job_title' , text_auto=True,histfunc='avg', barmode='group',title='The average salary for each job depends on the size of the company').update_xaxes(categoryorder = 'total descending'))\n",
    "        st.plotly_chart(px.histogram(data_frame=df, x='job_title', y='salary_in_usd', color='experience_level' , text_auto=True,histfunc='avg', barmode='group',title='The average salary for each job depends on experience').update_xaxes(categoryorder = 'total descending'))\n",
    "    with col3:\n",
    "        st.plotly_chart(px.histogram(data_frame=df , x='employment_type' , y='salary_in_usd' , text_auto=True , histfunc='avg',title='Salary  in dollars depends on employment_type').update_xaxes(categoryorder = 'total descending'))\n",
    "with tab4:\n",
    "    col1,col2,col3,col4=st.columns(4)\n",
    "    with col1:\n",
    "        st.plotly_chart(px.histogram(data_frame=df , x=['company_location'] , color='job_title' ,barmode='group', text_auto=True , title='Percentage of jobs in each country' ).update_xaxes(categoryorder = 'total descending'))\n",
    "    with col2:\n",
    "        st.plotly_chart(px.pie(data_frame=df , names='company_location' , facet_col='work_setting').update_traces(textinfo='label+value+percent'))\n",
    "    with col3:\n",
    "        st.plotly_chart(px.pie(data_frame=df , names='company_location' , facet_col='company_size' ).update_traces(textinfo='label+value+percent'))\n",
    "        st.plotly_chart(px.pie(data_frame=df , names ='company_location'  , title=' Number of companies in each country').update_traces(textinfo='label+value+percent'))\n",
    "    with col4:\n",
    "        st.plotly_chart(px.histogram(data_frame=df , y='salary_in_usd' , x= 'company_location' , text_auto=True , histfunc='avg' ,title='Average salaries in countries').update_xaxes(categoryorder = 'total descending'))\n",
    "with tab5:\n",
    "    col1,col2=st.columns(2)\n",
    "    with col1:\n",
    "        st.plotly_chart(px.histogram(data_frame=df , x='employment_type' , text_auto=True , title=' contracts' ).update_xaxes(categoryorder = 'total descending'))\n",
    "        st.plotly_chart(px.histogram(data_frame=df , x='company_location' , text_auto=True ,color ='employment_type',barmode='group').update_xaxes(categoryorder = 'total descending'))\n",
    "    with col2:\n",
    "        st.plotly_chart(px.histogram(data_frame=df , x='experience_level' , text_auto=True ,color ='employment_type',barmode='group').update_xaxes(categoryorder = 'total descending'))\n",
    "        st.plotly_chart(px.histogram(data_frame=df , x='salary_currency' , text_auto=True ,color ='employment_type',barmode='group',title='The most currencies in contracts').update_xaxes(categoryorder = 'total descending'))\n",
    "\n",
    "\n",
    "\n",
    "    \n"
   ]
  },
  {
   "cell_type": "code",
   "execution_count": null,
   "metadata": {},
   "outputs": [],
   "source": [
    "! streamlit run mid_project.py"
   ]
  },
  {
   "cell_type": "code",
   "execution_count": null,
   "metadata": {},
   "outputs": [],
   "source": []
  },
  {
   "cell_type": "code",
   "execution_count": null,
   "metadata": {},
   "outputs": [],
   "source": []
  }
 ],
 "metadata": {
  "kernelspec": {
   "display_name": "Python 3 (ipykernel)",
   "language": "python",
   "name": "python3"
  },
  "language_info": {
   "codemirror_mode": {
    "name": "ipython",
    "version": 3
   },
   "file_extension": ".py",
   "mimetype": "text/x-python",
   "name": "python",
   "nbconvert_exporter": "python",
   "pygments_lexer": "ipython3",
   "version": "3.12.0"
  }
 },
 "nbformat": 4,
 "nbformat_minor": 4
}
